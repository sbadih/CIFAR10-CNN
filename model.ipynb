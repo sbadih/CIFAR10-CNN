{
 "cells": [
  {
   "cell_type": "code",
   "execution_count": 2,
   "metadata": {},
   "outputs": [],
   "source": [
    "import torch\n",
    "from torch import nn\n",
    "from torch.utils.data import DataLoader\n",
    "from torchvision import datasets\n",
    "from torchvision.transforms import ToTensor\n",
    "import torchvision\n",
    "import numpy as np\n",
    "import matplotlib.pyplot as plt\n",
    "import torch.nn.functional as F\n",
    "from torchvision.transforms import ToTensor\n",
    "from torchvision.utils import make_grid\n",
    "from torch.utils.data.dataloader import DataLoader\n",
    "from torch.utils.data import random_split\n",
    "import torchvision.transforms as transforms\n",
    "%matplotlib inline"
   ]
  },
  {
   "cell_type": "code",
   "execution_count": 83,
   "metadata": {},
   "outputs": [],
   "source": [
    "#Set our hyperparameters \n",
    "batch_size = 64\n",
    "number_classes = 10\n",
    "lrate = 0.0005\n",
    "number_epochs = 30\n",
    "\n",
    "device = torch.device('cuda' if torch.cuda.is_available() else 'cpu') #GPU vs CPU for running"
   ]
  },
  {
   "cell_type": "code",
   "execution_count": 86,
   "metadata": {},
   "outputs": [
    {
     "name": "stdout",
     "output_type": "stream",
     "text": [
      "Requirement already satisfied: torch in /Users/sarabadih/opt/anaconda3/lib/python3.9/site-packages (1.13.0)\n",
      "Requirement already satisfied: torchvision in /Users/sarabadih/opt/anaconda3/lib/python3.9/site-packages (0.14.0)\n",
      "Requirement already satisfied: torchaudio in /Users/sarabadih/opt/anaconda3/lib/python3.9/site-packages (0.13.0)\n",
      "Requirement already satisfied: typing-extensions in /Users/sarabadih/opt/anaconda3/lib/python3.9/site-packages (from torch) (4.3.0)\n",
      "Requirement already satisfied: requests in /Users/sarabadih/opt/anaconda3/lib/python3.9/site-packages (from torchvision) (2.28.1)\n",
      "Requirement already satisfied: pillow!=8.3.*,>=5.3.0 in /Users/sarabadih/opt/anaconda3/lib/python3.9/site-packages (from torchvision) (9.2.0)\n",
      "Requirement already satisfied: numpy in /Users/sarabadih/opt/anaconda3/lib/python3.9/site-packages (from torchvision) (1.21.5)\n",
      "Requirement already satisfied: idna<4,>=2.5 in /Users/sarabadih/opt/anaconda3/lib/python3.9/site-packages (from requests->torchvision) (3.3)\n",
      "Requirement already satisfied: urllib3<1.27,>=1.21.1 in /Users/sarabadih/opt/anaconda3/lib/python3.9/site-packages (from requests->torchvision) (1.26.11)\n",
      "Requirement already satisfied: charset-normalizer<3,>=2 in /Users/sarabadih/opt/anaconda3/lib/python3.9/site-packages (from requests->torchvision) (2.0.4)\n",
      "Requirement already satisfied: certifi>=2017.4.17 in /Users/sarabadih/opt/anaconda3/lib/python3.9/site-packages (from requests->torchvision) (2022.9.24)\n"
     ]
    }
   ],
   "source": [
    "!pip install torch torchvision torchaudio"
   ]
  },
  {
   "cell_type": "code",
   "execution_count": 87,
   "metadata": {},
   "outputs": [
    {
     "data": {
      "text/plain": [
       "<torch._C.Generator at 0x7fec49899330>"
      ]
     },
     "execution_count": 87,
     "metadata": {},
     "output_type": "execute_result"
    }
   ],
   "source": [
    "torch.manual_seed(73)"
   ]
  },
  {
   "cell_type": "code",
   "execution_count": null,
   "metadata": {},
   "outputs": [
    {
     "name": "stdout",
     "output_type": "stream",
     "text": [
      "Downloading https://www.cs.toronto.edu/~kriz/cifar-10-python.tar.gz to data/cifar-10-python.tar.gz\n"
     ]
    },
    {
     "data": {
      "application/vnd.jupyter.widget-view+json": {
       "model_id": "9200e01e322140d5aa33ef277bdc7a53",
       "version_major": 2,
       "version_minor": 0
      },
      "text/plain": [
       "  0%|          | 0/170498071 [00:00<?, ?it/s]"
      ]
     },
     "metadata": {},
     "output_type": "display_data"
    },
    {
     "name": "stdout",
     "output_type": "stream",
     "text": [
      "Extracting data/cifar-10-python.tar.gz to data\n",
      "Files already downloaded and verified\n"
     ]
    }
   ],
   "source": [
    "#Download the Dataset\n",
    "training_data = datasets.CIFAR10(\n",
    "    root=\"data\",\n",
    "    train=True,\n",
    "    download=True,\n",
    "    transform=ToTensor(),\n",
    ")\n",
    "\n",
    "# Download test data from open datasets.\n",
    "test_data = datasets.CIFAR10(\n",
    "    root=\"data\",\n",
    "    train=False,\n",
    "    download=True,\n",
    "    transform=ToTensor(),\n",
    ")"
   ]
  },
  {
   "cell_type": "code",
   "execution_count": null,
   "metadata": {},
   "outputs": [
    {
     "name": "stdout",
     "output_type": "stream",
     "text": [
      "Files already downloaded and verified\n",
      "Files already downloaded and verified\n"
     ]
    }
   ],
   "source": [
    "data_normalization = transforms.Compose([transforms.Resize((32,32)),transforms.ToTensor(),transforms.Normalize(mean=[0.567, 0.3211, 0.4332], std=[0.1443, 0.18776, 0.2982]) ])\n",
    "# Create Training dataset\n",
    "train_data = torchvision.datasets.CIFAR10(root = './data',train = True, transform = data_normalization,download = True)\n",
    "\n",
    "# Create Testing dataset\n",
    "test_data = torchvision.datasets.CIFAR10(root = './data', train = False,transform = data_normalization,  download=True)\n",
    "\n",
    "# Instantiate loader objects to facilitate processing\n",
    "train_loader = torch.utils.data.DataLoader(dataset = train_data,  batch_size = batch_size,  shuffle = True)\n",
    "test_loader = torch.utils.data.DataLoader(dataset = test_data,batch_size = batch_size, shuffle = True)"
   ]
  },
  {
   "cell_type": "code",
   "execution_count": null,
   "metadata": {},
   "outputs": [
    {
     "name": "stdout",
     "output_type": "stream",
     "text": [
      "Training Data Size: 50000\n",
      "Test Data Size: 10000\n"
     ]
    },
    {
     "data": {
      "text/plain": [
       "['airplane',\n",
       " 'automobile',\n",
       " 'bird',\n",
       " 'cat',\n",
       " 'deer',\n",
       " 'dog',\n",
       " 'frog',\n",
       " 'horse',\n",
       " 'ship',\n",
       " 'truck']"
      ]
     },
     "execution_count": 23,
     "metadata": {},
     "output_type": "execute_result"
    }
   ],
   "source": [
    "#Explore Dataset Size and classes\n",
    "print(\"Training Data Size:\",len(training_data))\n",
    "print(\"Test Data Size:\",len(test_data))\n",
    "classes = training_data.classes\n",
    "classes"
   ]
  },
  {
   "cell_type": "markdown",
   "metadata": {},
   "source": [
    "60,0000 images total, 50,000 images in train set (5000 per class for 10 classes), and 10,000 test images. Each image is 32x32x3."
   ]
  },
  {
   "cell_type": "code",
   "execution_count": null,
   "metadata": {},
   "outputs": [
    {
     "name": "stdout",
     "output_type": "stream",
     "text": [
      "Image Shape: torch.Size([3, 32, 32])\n",
      "Label: deer\n"
     ]
    },
    {
     "data": {
      "text/plain": [
       "<matplotlib.image.AxesImage at 0x7fec1cf60280>"
      ]
     },
     "execution_count": 25,
     "metadata": {},
     "output_type": "execute_result"
    },
    {
     "data": {
      "image/png": "[encoded data removed]",
      "text/plain": [
       "<Figure size 640x480 with 1 Axes>"
      ]
     },
     "metadata": {},
     "output_type": "display_data"
    }
   ],
   "source": [
    "#Look at one image\n",
    "im, label = train_data[500]\n",
    "shape = im.shape\n",
    "print(\"Image Shape:\",shape)\n",
    "print(\"Label:\",classes[label])\n",
    "plt.imshow(im.permute((1, 2, 0)))"
   ]
  },
  {
   "cell_type": "code",
   "execution_count": null,
   "metadata": {},
   "outputs": [
    {
     "name": "stdout",
     "output_type": "stream",
     "text": [
      "Number of Images in Training Data: 40000\n",
      "Number of Images in Test Data: 5000\n"
     ]
    }
   ],
   "source": [
    "#Validation Set Extraction\n",
    "size=5000\n",
    "validation_size = size\n",
    "train_size_prev=len(train_data)\n",
    "train_size = train_size_prev - validation_size\n",
    "train_data, validation_data = random_split(train_data, [train_size, validation_size])\n",
    "print(\"Number of Images in Training Data:\",len(train_data))\n",
    "print(\"Number of Images in Test Data:\",len(validation_data))"
   ]
  },
  {
   "cell_type": "markdown",
   "metadata": {},
   "source": [
    "Basic CNN Setup"
   ]
  },
  {
   "cell_type": "code",
   "execution_count": null,
   "metadata": {},
   "outputs": [],
   "source": [
    "# Create a class that extends the nn.Module from pytorch \n",
    "class CNN(nn.Module):\n",
    "\t#  Build our CNN Architecture by specifying the convolution,max pooling and non linearity layers\n",
    "    def __init__(self, number_classes):\n",
    "        super(CNN, self).__init__()\n",
    "        self.conv_layer1 = nn.Conv2d(3,32, kernel_size=3)\n",
    "        self.conv_layer2 = nn.Conv2d(32,32, kernel_size=3)\n",
    "        self.max_pool1 = nn.MaxPool2d(kernel_size = 2, stride = 2)\n",
    "        \n",
    "        self.conv_layer3 = nn.Conv2d(32, 64, kernel_size=3)\n",
    "        self.conv_layer4 = nn.Conv2d(64, 64, kernel_size=3)\n",
    "        self.max_pool2 = nn.MaxPool2d(kernel_size = 2, stride = 2)\n",
    "        \n",
    "        self.fc1 = nn.Linear(1600, 128)\n",
    "        self.relu1 = nn.ReLU() #Use ReLU for our activation function\n",
    "        self.fc2 = nn.Linear(128, number_classes)\n",
    "    \n",
    "    # Define order of how data is forward fed into the neural network   \n",
    "    def forward(self, input):\n",
    "        out = self.conv_layer1(input)\n",
    "        out = self.conv_layer2(out)\n",
    "        out = self.max_pool1(out)\n",
    "        \n",
    "        out = self.conv_layer3(out)\n",
    "        out = self.conv_layer4(out)\n",
    "        out = self.max_pool2(out)\n",
    "        final_shape=out.size(0)       \n",
    "        out = out.reshape(final_shape, -1) #Reshape so that data can be fed into fully connected layer\n",
    "        \n",
    "        out = self.fc1(out)\n",
    "        out = self.relu1(out)\n",
    "        out = self.fc2(out)\n",
    "        return out"
   ]
  },
  {
   "cell_type": "code",
   "execution_count": null,
   "metadata": {},
   "outputs": [],
   "source": [
    "#Hyperparameter Setup for Neural Network\n",
    "iterations = len(train_loader) #Number of Iterations in through our batches\n",
    "conv_net = CNN(number_classes)\n",
    "loss_function = nn.CrossEntropyLoss() #Use cross entropy loss because we are doing a classification class and using ReLU activation\n",
    "back_prop_opt = torch.optim.SGD(conv_net.parameters(), lr=lrate, weight_decay = 0.0001, momentum = 0.9) #Use Stochastic Gradient Descent for optimizer function"
   ]
  },
  {
   "cell_type": "code",
   "execution_count": null,
   "metadata": {},
   "outputs": [
    {
     "name": "stdout",
     "output_type": "stream",
     "text": [
      "Epoch [1/30], Loss: 1.6949\n",
      "Epoch [2/30], Loss: 1.7142\n",
      "Epoch [3/30], Loss: 1.5293\n",
      "Epoch [4/30], Loss: 1.4770\n",
      "Epoch [5/30], Loss: 1.2829\n",
      "Epoch [6/30], Loss: 1.0998\n",
      "Epoch [7/30], Loss: 1.0465\n",
      "Epoch [8/30], Loss: 1.1742\n",
      "Epoch [9/30], Loss: 1.5001\n",
      "Epoch [10/30], Loss: 0.8627\n",
      "Epoch [11/30], Loss: 1.1475\n",
      "Epoch [12/30], Loss: 1.0420\n",
      "Epoch [13/30], Loss: 0.7186\n",
      "Epoch [14/30], Loss: 1.3537\n",
      "Epoch [15/30], Loss: 0.8709\n",
      "Epoch [16/30], Loss: 0.7314\n",
      "Epoch [17/30], Loss: 0.6417\n",
      "Epoch [18/30], Loss: 0.6580\n",
      "Epoch [19/30], Loss: 0.7468\n",
      "Epoch [20/30], Loss: 0.9458\n",
      "Epoch [21/30], Loss: 0.6189\n",
      "Epoch [22/30], Loss: 0.8392\n",
      "Epoch [23/30], Loss: 0.7328\n",
      "Epoch [24/30], Loss: 0.5314\n",
      "Epoch [25/30], Loss: 0.7739\n",
      "Epoch [26/30], Loss: 0.5934\n",
      "Epoch [27/30], Loss: 0.5068\n",
      "Epoch [28/30], Loss: 0.5527\n",
      "Epoch [29/30], Loss: 0.8109\n",
      "Epoch [30/30], Loss: 0.4304\n"
     ]
    }
   ],
   "source": [
    "#Train our Convolutional Neural Network\n",
    "\n",
    "for ep in range(number_epochs): #Loop through epoch numbers\n",
    "    for j, (imgs, classes) in enumerate(train_loader): #Loop through the batches \n",
    "        #Define if using GPU or CPU\n",
    "        imgs = imgs.to(device)\n",
    "        classes = classes.to(device)\n",
    "        \n",
    "        # Pass the data through the Forward pass\n",
    "        out = conv_net(imgs)\n",
    "        loss_value = loss_function(out, classes) #Calculate the loss based on the forward pass\n",
    "        \n",
    "        # Do Backproprogation using SGD to update weights based on loss\n",
    "        back_prop_opt.zero_grad() #Set gradient to zero before each weight update\n",
    "        loss_value.backward() #Find value of new gradients based on current loss value\n",
    "        back_prop_opt.step() #Compute new weights on our optimizer using the new gradients\n",
    "\n",
    "    print('Epoch [{}/{}], Loss: {:.4f}'.format(ep+1, number_epochs, loss_value.item()))          "
   ]
  },
  {
   "cell_type": "code",
   "execution_count": null,
   "metadata": {},
   "outputs": [
    {
     "name": "stdout",
     "output_type": "stream",
     "text": [
      "Training Accuracy: 86.818\n",
      "Testing Accuracy: 67.7\n"
     ]
    }
   ],
   "source": [
    "#Testing our Convolutional Neural Network\n",
    "\n",
    "#Training Accuracy\n",
    "with torch.no_grad():\n",
    "    accur = 0\n",
    "    sample=0\n",
    "    for imgs, classes in train_loader:\n",
    "        imgs = imgs.to(device)\n",
    "        classes = classes.to(device)\n",
    "        out = conv_net(imgs)\n",
    "        _, class_hat = torch.max(out.data, 1)\n",
    "        accur += (class_hat == classes).sum().item()\n",
    "        sample += classes.size(0)\n",
    "    \n",
    "    print(\"Training Accuracy:\",(100 * accur / sample))\n",
    "\n",
    "#Testing Accuracy\n",
    "with torch.no_grad():\n",
    "    accur = 0\n",
    "    sample=0\n",
    "    for imgs, classes in test_loader:\n",
    "        imgs = imgs.to(device)\n",
    "        classes = classes.to(device)\n",
    "        out = conv_net(imgs)\n",
    "        _, class_hat = torch.max(out.data, 1)\n",
    "        accur += (class_hat == classes).sum().item()\n",
    "        sample += classes.size(0)\n",
    "    \n",
    "    print(\"Testing Accuracy:\",(100 * accur / sample))"
   ]
  },
  {
   "cell_type": "markdown",
   "metadata": {},
   "source": [
    "AlexNet Implementation"
   ]
  },
  {
   "cell_type": "code",
   "execution_count": 88,
   "metadata": {},
   "outputs": [
    {
     "data": {
      "text/plain": [
       "<torch._C.Generator at 0x7fec49899330>"
      ]
     },
     "execution_count": 88,
     "metadata": {},
     "output_type": "execute_result"
    }
   ],
   "source": [
    "#Set our hyperparameters \n",
    "batch_size = 256\n",
    "number_classes = 10\n",
    "lrate = 0.01\n",
    "number_epochs = 50\n",
    "device = torch.device('cuda' if torch.cuda.is_available() else 'cpu') #GPU vs CPU for running\n",
    "torch.manual_seed(73)"
   ]
  },
  {
   "cell_type": "code",
   "execution_count": 101,
   "metadata": {},
   "outputs": [
    {
     "name": "stdout",
     "output_type": "stream",
     "text": [
      "Files already downloaded and verified\n",
      "Files already downloaded and verified\n",
      "Dimensions of Images in Each Batch: torch.Size([256, 3, 64, 64])\n",
      "Label Shapes: torch.Size([256])\n"
     ]
    }
   ],
   "source": [
    "#Data Transforms, Loaders and Visualizing data\n",
    "data_normalization = transforms.Compose([transforms.Resize((70,70)),transforms.ToTensor(),transforms.CenterCrop((64, 64)),transforms.Normalize((0.5, 0.5, 0.5), (0.5, 0.5, 0.5)) ])\n",
    "# Training dataset\n",
    "train_data = torchvision.datasets.CIFAR10(root = './data',train = True, transform = data_normalization,download = True)\n",
    "\n",
    "# Testing dataset\n",
    "test_data = torchvision.datasets.CIFAR10(root = './data', train = False,transform = data_normalization,  download=True)\n",
    "\n",
    "#Loaders\n",
    "train_loader = torch.utils.data.DataLoader(dataset = train_data,  batch_size = batch_size,  shuffle = True)\n",
    "test_loader = torch.utils.data.DataLoader(dataset = test_data,batch_size = batch_size, shuffle = True)\n",
    "\n",
    "# Checking the dataset\n",
    "for imgs, labels in train_loader:  \n",
    "    #Print One Sample\n",
    "    print(\"Dimensions of Images in Each Batch:\", imgs.shape)\n",
    "    print(\"Label Shapes:\", labels.shape)\n",
    "    break"
   ]
  },
  {
   "cell_type": "code",
   "execution_count": 90,
   "metadata": {},
   "outputs": [],
   "source": [
    "class AlexNet(torch.nn.Module):\n",
    "\n",
    "    def __init__(self, class_numbers):\n",
    "        super().__init__()\n",
    "        #Define the standard convolution,ReLU and max pooling layers of the AlexNet Architecture\n",
    "        self.feature_extraction = torch.nn.Sequential(\n",
    "            torch.nn.Conv2d(3, 64, kernel_size=11, stride=4, padding=2),\n",
    "            torch.nn.ReLU(inplace=True), #Using ReLU as activation function\n",
    "            torch.nn.MaxPool2d(kernel_size=3, stride=2),\n",
    "            torch.nn.Conv2d(64, 192, kernel_size=5, padding=2),\n",
    "            torch.nn.ReLU(inplace=True),\n",
    "            torch.nn.MaxPool2d(kernel_size=3, stride=2),\n",
    "            torch.nn.Conv2d(192, 384, kernel_size=3, padding=1),\n",
    "            torch.nn.ReLU(inplace=True),\n",
    "            torch.nn.Conv2d(384, 256, kernel_size=3, padding=1),\n",
    "            torch.nn.ReLU(inplace=True),\n",
    "            torch.nn.Conv2d(256, 256, kernel_size=3, padding=1),\n",
    "            torch.nn.ReLU(inplace=True),\n",
    "            torch.nn.MaxPool2d(kernel_size=3, stride=2),\n",
    "        )\n",
    "        self.pool_average = torch.nn.AdaptiveAvgPool2d((6, 6))\n",
    "        #Define the fully connected layers at the end of AlexNet\n",
    "        self.predictions = torch.nn.Sequential(\n",
    "            torch.nn.Linear(256 * 6 * 6, 4096),\n",
    "            torch.nn.ReLU(inplace=True),\n",
    "            torch.nn.Dropout(p=0.5,inplace=False),\n",
    "            torch.nn.Linear(4096, 4096),\n",
    "            torch.nn.ReLU(inplace=True),\n",
    "            torch.nn.Linear(4096, class_numbers)\n",
    "        )\n",
    "    # Define order of how data is forward fed into the neural network   \n",
    "    def forward(self, input):\n",
    "        out = self.feature_extraction(input) #Run input into feature extraction layer(conv,ReLu and Maxpool)\n",
    "        out = self.pool_average(out) #Perform average max pooling\n",
    "        out = out.view(out.size(0), 256 * 6 * 6) #Reshape so that data can be fed into fully connected layer\n",
    "        final_out = self.predictions(out) #Get final classification predictions from fully connected layers\n",
    "        return final_out"
   ]
  },
  {
   "cell_type": "markdown",
   "metadata": {},
   "source": [
    "The above architecture was adopted from the following github page: https://github.com/rasbt/stat453-deep-learning-ss21/blob/main/L13/code/2-alexnet-cifar10.ipynb"
   ]
  },
  {
   "cell_type": "code",
   "execution_count": 91,
   "metadata": {},
   "outputs": [],
   "source": [
    "#Hyperparameter Setup for Neural Network\n",
    "iterations = len(train_loader) #Number of Iterations in our batches\n",
    "alex_net = AlexNet(number_classes)\n",
    "loss_function = nn.CrossEntropyLoss() #Use cross entropy loss because we are doing a classification class and using ReLU activation\n",
    "bp_optimizer = torch.optim.SGD(alex_net.parameters(), lr=lrate, momentum = 0.9) #Use Stochastic Gradient Descent for optimizer function"
   ]
  },
  {
   "cell_type": "code",
   "execution_count": 92,
   "metadata": {},
   "outputs": [
    {
     "name": "stdout",
     "output_type": "stream",
     "text": [
      "On Epoch [1/50], Current Loss Value: 2.2962\n",
      "On Epoch [2/50], Current Loss Value: 2.0054\n",
      "On Epoch [3/50], Current Loss Value: 1.7132\n",
      "On Epoch [4/50], Current Loss Value: 1.6618\n",
      "On Epoch [5/50], Current Loss Value: 1.3911\n",
      "On Epoch [6/50], Current Loss Value: 1.2908\n",
      "On Epoch [7/50], Current Loss Value: 0.8591\n",
      "On Epoch [8/50], Current Loss Value: 0.7709\n",
      "On Epoch [9/50], Current Loss Value: 0.8368\n",
      "On Epoch [10/50], Current Loss Value: 0.5930\n",
      "On Epoch [11/50], Current Loss Value: 0.6815\n",
      "On Epoch [12/50], Current Loss Value: 0.5569\n",
      "On Epoch [13/50], Current Loss Value: 0.8003\n",
      "On Epoch [14/50], Current Loss Value: 0.6707\n",
      "On Epoch [15/50], Current Loss Value: 0.4434\n",
      "On Epoch [16/50], Current Loss Value: 0.4307\n",
      "On Epoch [17/50], Current Loss Value: 0.3325\n",
      "On Epoch [18/50], Current Loss Value: 0.2828\n",
      "On Epoch [19/50], Current Loss Value: 0.1788\n",
      "On Epoch [20/50], Current Loss Value: 0.1648\n",
      "On Epoch [21/50], Current Loss Value: 0.1462\n",
      "On Epoch [22/50], Current Loss Value: 0.0594\n",
      "On Epoch [23/50], Current Loss Value: 0.1568\n",
      "On Epoch [24/50], Current Loss Value: 0.1890\n",
      "On Epoch [25/50], Current Loss Value: 0.0747\n",
      "On Epoch [26/50], Current Loss Value: 0.0617\n",
      "On Epoch [27/50], Current Loss Value: 0.0333\n",
      "On Epoch [28/50], Current Loss Value: 0.0519\n",
      "On Epoch [29/50], Current Loss Value: 0.0411\n",
      "On Epoch [30/50], Current Loss Value: 0.0989\n",
      "On Epoch [31/50], Current Loss Value: 0.0855\n",
      "On Epoch [32/50], Current Loss Value: 0.0326\n",
      "On Epoch [33/50], Current Loss Value: 0.0295\n",
      "On Epoch [34/50], Current Loss Value: 0.0100\n",
      "On Epoch [35/50], Current Loss Value: 0.0557\n",
      "On Epoch [36/50], Current Loss Value: 0.0927\n",
      "On Epoch [37/50], Current Loss Value: 0.0898\n",
      "On Epoch [38/50], Current Loss Value: 0.0404\n",
      "On Epoch [39/50], Current Loss Value: 0.0194\n",
      "On Epoch [40/50], Current Loss Value: 0.0767\n",
      "On Epoch [41/50], Current Loss Value: 0.0012\n",
      "On Epoch [42/50], Current Loss Value: 0.0806\n",
      "On Epoch [43/50], Current Loss Value: 0.0041\n",
      "On Epoch [44/50], Current Loss Value: 0.0119\n",
      "On Epoch [45/50], Current Loss Value: 0.0487\n",
      "On Epoch [46/50], Current Loss Value: 0.0066\n",
      "On Epoch [47/50], Current Loss Value: 0.0910\n",
      "On Epoch [48/50], Current Loss Value: 0.0550\n",
      "On Epoch [49/50], Current Loss Value: 0.0077\n",
      "On Epoch [50/50], Current Loss Value: 0.0009\n"
     ]
    },
    {
     "data": {
      "text/plain": [
       "Text(0, 0.5, 'Training Error')"
      ]
     },
     "execution_count": 92,
     "metadata": {},
     "output_type": "execute_result"
    },
    {
     "data": {
      "image/png": "[encoded data removed]",
      "text/plain": [
       "<Figure size 640x480 with 1 Axes>"
      ]
     },
     "metadata": {},
     "output_type": "display_data"
    }
   ],
   "source": [
    "#Train AlexNet\n",
    "loss_store=np.zeros(number_epochs)\n",
    "for ep in range(number_epochs): #Loop through epoch numbers\n",
    "    for j, (imgs, classes) in enumerate(train_loader): #Loop through the batches \n",
    "        #Define if using GPU or CPU\n",
    "        imgs = imgs.to(device)\n",
    "        classes = classes.to(device)\n",
    "        \n",
    "        # Pass the data through the Forward pass\n",
    "        out = alex_net(imgs)\n",
    "        loss_value = loss_function(out, classes) #Calculate the loss based on the forward pass\n",
    "        \n",
    "        # Do Backproprogation using SGD to update weights based on loss\n",
    "        bp_optimizer.zero_grad() #Set gradient to zero before each weight update\n",
    "        loss_value.backward() #Find value of new gradients based on current loss value\n",
    "        bp_optimizer.step() #Compute new weights on our optimizer using the new gradients\n",
    "    loss_store[ep]=loss_value.item()\n",
    "    print('On Epoch [{}/{}], Current Loss Value: {:.4f}'.format(ep+1, number_epochs, loss_value.item())) \n",
    "\n",
    "#Plot Training Error as a function of Epoch\n",
    "plt.plot(np.arange(1,number_epochs+1,1),loss_store)\n",
    "plt.title(\"Training Loss As a Function of Epoch Number\")\n",
    "plt.xlabel(\"Epochs\")\n",
    "plt.ylabel(\"Training Error\")"
   ]
  },
  {
   "cell_type": "code",
   "execution_count": 93,
   "metadata": {},
   "outputs": [
    {
     "name": "stdout",
     "output_type": "stream",
     "text": [
      "Training Accuracy: 99.734\n",
      "Testing Accuracy: 74.76\n"
     ]
    }
   ],
   "source": [
    "#Testing AlexNet\n",
    "\n",
    "#Training Accuracy\n",
    "with torch.no_grad():\n",
    "    accur = 0\n",
    "    sample=0\n",
    "    for imgs, classes in train_loader:\n",
    "        classes = classes.to(device)\n",
    "        imgs = imgs.to(device)\n",
    "        out = alex_net(imgs)\n",
    "        na, class_hat = torch.max(out.data, 1)\n",
    "        accur += (class_hat == classes).sum().item()\n",
    "        sample += classes.size(0)\n",
    "    \n",
    "    print(\"Training Accuracy:\",(100 * accur / sample))\n",
    "\n",
    "#Testing Accuracy\n",
    "with torch.no_grad():\n",
    "    accur = 0\n",
    "    sample=0\n",
    "    for imgs, classes in test_loader:\n",
    "        classes = classes.to(device)\n",
    "        imgs = imgs.to(device)\n",
    "        out = alex_net(imgs)\n",
    "        na, class_hat = torch.max(out.data, 1)\n",
    "        accur += (class_hat == classes).sum().item()\n",
    "        sample += classes.size(0)\n",
    "    \n",
    "    print(\"Testing Accuracy:\",(100 * accur / sample))"
   ]
  },
  {
   "cell_type": "markdown",
   "metadata": {},
   "source": [
    "Attacking the Network"
   ]
  },
  {
   "cell_type": "markdown",
   "metadata": {},
   "source": [
    "1: Fast Gradient Signed Method Attack(Untargetted)"
   ]
  },
  {
   "cell_type": "code",
   "execution_count": 5,
   "metadata": {},
   "outputs": [],
   "source": [
    "#Reload data with batch size=1 for FGSM only\n",
    "test_loader = torch.utils.data.DataLoader(dataset = test_data,batch_size = 1, shuffle = True) \n",
    "eps = 0.1\n",
    "\n",
    "def FGSM(img,gradient,e):\n",
    "    signs = gradient.sign() #Extract the gradient signs\n",
    "    # Create the perturbed image by adjusting each pixel of the input image\n",
    "    x_perturb = img + e*signs #Create our perturbered image by adding a small epsilon in the direction of the gradient\n",
    "    image_attack = torch.clamp(x_perturb, 0, 1) #Clamp the image pixel value to make sure its an image\n",
    "    return image_attack #Return our final attacked image\n",
    "\n",
    "def attack_network(dev,loader,e,number):\n",
    "    accur = []\n",
    "    sample=0\n",
    "    iter=0\n",
    "    for imgs, classes in loader:\n",
    "        print(\"On Iteration \",iter )\n",
    "        classes = classes.to(dev)\n",
    "        imgs = imgs.to(dev)\n",
    "        imgs.requires_grad=True\n",
    "        out = alex_net(imgs)\n",
    "        class_hat = out.max(1, keepdim=True)[1] #Initial Label Prediction\n",
    "        #Attack the network only if it already predicts the image class correctly\n",
    "        if classes.item()==class_hat.item(): \n",
    "            #Calculate the current value of the loss\n",
    "            loss_value = loss_function(out, classes) \n",
    "            # Do Backproprogation using SGD to update weights based on loss\n",
    "            bp_optimizer.zero_grad() #Set gradient to zero before each weight update\n",
    "            loss_value.backward() #Find value of new gradients based on current loss value\n",
    "            gradients = imgs.grad.data #Get current gradients\n",
    "            #Attack the network using FGSM\n",
    "            img_attack=FGSM(imgs,gradients,e)\n",
    "            class_hat_attack=alex_net(img_attack) #Get new network prediction with attack\n",
    "            attack_pred = class_hat_attack.data.max(1, keepdim=True)[1]#Initial Prediction\n",
    "            if attack_pred.item()==classes.item():\n",
    "                accur.append(1)\n",
    "        sample += classes.size(0)\n",
    "        iter+=1\n",
    "    accur=np.array(accur)\n",
    "    ac_total=(100 * np.sum(accur) / sample)\n",
    "    print(ac_total.shape)\n",
    "    print(\"Accuracy for Epsilon ={}\".format(e,ac_total)) #Observe how accuracy is changing with FGSM attack\n",
    "    return ac_total\n",
    "accur_store=attack_network(device,test_loader,eps,1)\n"
   ]
  },
  {
   "cell_type": "markdown",
   "metadata": {},
   "source": [
    "Reported Accuracy 5.54%."
   ]
  },
  {
   "cell_type": "markdown",
   "metadata": {},
   "source": [
    "#2: Projected Gradient Descent (PGD)\n",
    "    Note: PGD is similar to Iterative-IFGSM\n",
    "    Note:We will use PGD attack from the torchattacks library\n",
    "        -Reference can be found here: https://github.com/Harry24k/adversarial-attacks-pytorch\n",
    "        Citation:\n",
    "        @article{kim2020torchattacks,\n",
    "        title={Torchattacks: A pytorch repository for adversarial attacks},\n",
    "        author={Kim, Hoki},\n",
    "        journal={arXiv preprint arXiv:2010.01950},\n",
    "        year={2020}\n",
    "        }"
   ]
  },
  {
   "cell_type": "code",
   "execution_count": 95,
   "metadata": {},
   "outputs": [
    {
     "name": "stdout",
     "output_type": "stream",
     "text": [
      "Requirement already satisfied: torchattacks in /Users/sarabadih/opt/anaconda3/lib/python3.9/site-packages (3.3.0)\n"
     ]
    }
   ],
   "source": [
    "!pip install torchattacks"
   ]
  },
  {
   "cell_type": "code",
   "execution_count": 111,
   "metadata": {},
   "outputs": [],
   "source": [
    "import torchattacks\n",
    "from torchattacks import PGD"
   ]
  },
  {
   "cell_type": "code",
   "execution_count": 97,
   "metadata": {},
   "outputs": [],
   "source": [
    "#Note: This function was copied from the utils.py file from the torchattacks repository cited above\n",
    "def get_pred(model, images, device):\n",
    "    logits = model(images.to(device))\n",
    "    _, pres = logits.max(dim=1)\n",
    "    return pres.cpu()"
   ]
  },
  {
   "cell_type": "code",
   "execution_count": 106,
   "metadata": {},
   "outputs": [
    {
     "name": "stdout",
     "output_type": "stream",
     "text": [
      "PGD Attack Testing Accuracy: 5.54\n"
     ]
    }
   ],
   "source": [
    "test_loader = torch.utils.data.DataLoader(dataset = test_data,batch_size = batch_size, shuffle = True)\n",
    "\n",
    "atck_net = PGD(alex_net, eps=8/255, alpha=2/225, steps=10, random_start=True)\n",
    "ac=0\n",
    "sample=0\n",
    "count=0\n",
    "for imgs,classes in test_loader:\n",
    "    imgs_attack=atck_net(imgs, classes)\n",
    "    prediction=get_pred(alex_net, imgs_attack, device)\n",
    "    for j in range(prediction.shape[0]):\n",
    "        if prediction[j]==classes[j]:\n",
    "            ac+=1\n",
    "    sample += classes.size(0)\n",
    "    count+=1\n",
    "\n",
    "accur= 100*np.sum(ac)/sample\n",
    "print(\"PGD Attack Testing Accuracy:\",accur)"
   ]
  },
  {
   "cell_type": "markdown",
   "metadata": {},
   "source": [
    "We can see that we can drop the testing accuracy with PGD attacks to 5.54% if we attack every image in the network that was not initially classified miscorrectly. "
   ]
  },
  {
   "cell_type": "code",
   "execution_count": 121,
   "metadata": {},
   "outputs": [
    {
     "data": {
      "text/plain": [
       "Text(0.5, 1.0, 'Example of PGD Attack Image')"
      ]
     },
     "execution_count": 121,
     "metadata": {},
     "output_type": "execute_result"
    },
    {
     "data": {
      "image/png": "[encoded data removed]",
      "text/plain": [
       "<Figure size 640x480 with 1 Axes>"
      ]
     },
     "metadata": {},
     "output_type": "display_data"
    }
   ],
   "source": [
    "plt.imshow(imgs_attack[3].permute((1, 2, 0)))\n",
    "plt.title(\"Example of PGD Attack Image\")"
   ]
  }
 ],
 "metadata": {
  "kernelspec": {
   "display_name": "Python 3.9.13 ('base')",
   "language": "python",
   "name": "python3"
  },
  "language_info": {
   "codemirror_mode": {
    "name": "ipython",
    "version": 3
   },
   "file_extension": ".py",
   "mimetype": "text/x-python",
   "name": "python",
   "nbconvert_exporter": "python",
   "pygments_lexer": "ipython3",
   "version": "3.9.13"
  },
  "orig_nbformat": 4,
  "vscode": {
   "interpreter": {
    "hash": "d4396e96d95f49c3bb254970b506dd0f857ff4535dcb92028abaca7e375af709"
   }
  }
 },
 "nbformat": 4,
 "nbformat_minor": 2
}
